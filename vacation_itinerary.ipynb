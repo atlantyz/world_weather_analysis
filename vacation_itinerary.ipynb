{
 "cells": [
  {
   "cell_type": "markdown",
   "id": "03aff0a9",
   "metadata": {},
   "source": [
    "Deliverable 3: Create a Travel Itinerary Map"
   ]
  },
  {
   "cell_type": "code",
   "execution_count": 22,
   "id": "4f989de2",
   "metadata": {},
   "outputs": [],
   "source": [
    "import pandas as pd\n",
    "import requests\n",
    "import gmaps\n",
    "\n",
    "from config import g_key\n",
    "gmaps.configure(api_key=g_key)"
   ]
  },
  {
   "cell_type": "markdown",
   "id": "20f52e88",
   "metadata": {},
   "source": [
    "Read the WeatherPy_vacation.csv into a DataFrame."
   ]
  },
  {
   "cell_type": "code",
   "execution_count": 29,
   "id": "8bd5864f",
   "metadata": {
    "scrolled": true
   },
   "outputs": [
    {
     "data": {
      "text/html": [
       "<div>\n",
       "<style scoped>\n",
       "    .dataframe tbody tr th:only-of-type {\n",
       "        vertical-align: middle;\n",
       "    }\n",
       "\n",
       "    .dataframe tbody tr th {\n",
       "        vertical-align: top;\n",
       "    }\n",
       "\n",
       "    .dataframe thead th {\n",
       "        text-align: right;\n",
       "    }\n",
       "</style>\n",
       "<table border=\"1\" class=\"dataframe\">\n",
       "  <thead>\n",
       "    <tr style=\"text-align: right;\">\n",
       "      <th></th>\n",
       "      <th>City_ID</th>\n",
       "      <th>City</th>\n",
       "      <th>Country</th>\n",
       "      <th>Max Temp</th>\n",
       "      <th>Current Description</th>\n",
       "      <th>Lat</th>\n",
       "      <th>Lng</th>\n",
       "      <th>Hotel Name</th>\n",
       "    </tr>\n",
       "  </thead>\n",
       "  <tbody>\n",
       "    <tr>\n",
       "      <th>0</th>\n",
       "      <td>2</td>\n",
       "      <td>Butaritari</td>\n",
       "      <td>KI</td>\n",
       "      <td>80.51</td>\n",
       "      <td>light rain</td>\n",
       "      <td>3.0707</td>\n",
       "      <td>172.7902</td>\n",
       "      <td>Isles Sunset Lodge</td>\n",
       "    </tr>\n",
       "    <tr>\n",
       "      <th>1</th>\n",
       "      <td>8</td>\n",
       "      <td>Kapaa</td>\n",
       "      <td>US</td>\n",
       "      <td>74.12</td>\n",
       "      <td>scattered clouds</td>\n",
       "      <td>22.0752</td>\n",
       "      <td>-159.3190</td>\n",
       "      <td>Sheraton Kauai Coconut Beach Resort</td>\n",
       "    </tr>\n",
       "    <tr>\n",
       "      <th>2</th>\n",
       "      <td>15</td>\n",
       "      <td>Atuona</td>\n",
       "      <td>PF</td>\n",
       "      <td>78.58</td>\n",
       "      <td>light rain</td>\n",
       "      <td>-9.8000</td>\n",
       "      <td>-139.0333</td>\n",
       "      <td>Villa Enata</td>\n",
       "    </tr>\n",
       "    <tr>\n",
       "      <th>3</th>\n",
       "      <td>16</td>\n",
       "      <td>Sao Mateus</td>\n",
       "      <td>BR</td>\n",
       "      <td>84.42</td>\n",
       "      <td>clear sky</td>\n",
       "      <td>-18.7161</td>\n",
       "      <td>-39.8589</td>\n",
       "      <td>Hotel Rio Norte</td>\n",
       "    </tr>\n",
       "    <tr>\n",
       "      <th>4</th>\n",
       "      <td>17</td>\n",
       "      <td>Baikunthpur</td>\n",
       "      <td>IN</td>\n",
       "      <td>89.08</td>\n",
       "      <td>scattered clouds</td>\n",
       "      <td>23.2500</td>\n",
       "      <td>82.5500</td>\n",
       "      <td>Hotel Shree Annapurna</td>\n",
       "    </tr>\n",
       "    <tr>\n",
       "      <th>...</th>\n",
       "      <td>...</td>\n",
       "      <td>...</td>\n",
       "      <td>...</td>\n",
       "      <td>...</td>\n",
       "      <td>...</td>\n",
       "      <td>...</td>\n",
       "      <td>...</td>\n",
       "      <td>...</td>\n",
       "    </tr>\n",
       "    <tr>\n",
       "      <th>229</th>\n",
       "      <td>649</td>\n",
       "      <td>Ranong</td>\n",
       "      <td>TH</td>\n",
       "      <td>80.11</td>\n",
       "      <td>overcast clouds</td>\n",
       "      <td>9.9658</td>\n",
       "      <td>98.6348</td>\n",
       "      <td>Tinidee Hotel@Ranong</td>\n",
       "    </tr>\n",
       "    <tr>\n",
       "      <th>230</th>\n",
       "      <td>650</td>\n",
       "      <td>Lalawigan</td>\n",
       "      <td>PH</td>\n",
       "      <td>79.21</td>\n",
       "      <td>scattered clouds</td>\n",
       "      <td>11.5892</td>\n",
       "      <td>125.4697</td>\n",
       "      <td>Palms Apartment</td>\n",
       "    </tr>\n",
       "    <tr>\n",
       "      <th>231</th>\n",
       "      <td>655</td>\n",
       "      <td>Cozumel</td>\n",
       "      <td>MX</td>\n",
       "      <td>86.95</td>\n",
       "      <td>broken clouds</td>\n",
       "      <td>20.5083</td>\n",
       "      <td>-86.9458</td>\n",
       "      <td>Cozumel Palace® All Inclusive Resort</td>\n",
       "    </tr>\n",
       "    <tr>\n",
       "      <th>232</th>\n",
       "      <td>658</td>\n",
       "      <td>Celestun</td>\n",
       "      <td>MX</td>\n",
       "      <td>86.56</td>\n",
       "      <td>clear sky</td>\n",
       "      <td>20.8667</td>\n",
       "      <td>-90.4000</td>\n",
       "      <td>Posada Lilia</td>\n",
       "    </tr>\n",
       "    <tr>\n",
       "      <th>233</th>\n",
       "      <td>664</td>\n",
       "      <td>Aguas Verdes</td>\n",
       "      <td>PE</td>\n",
       "      <td>86.27</td>\n",
       "      <td>scattered clouds</td>\n",
       "      <td>-3.4814</td>\n",
       "      <td>-80.2450</td>\n",
       "      <td>Sol Del Sur Hotel</td>\n",
       "    </tr>\n",
       "  </tbody>\n",
       "</table>\n",
       "<p>234 rows × 8 columns</p>\n",
       "</div>"
      ],
      "text/plain": [
       "     City_ID          City Country  Max Temp Current Description      Lat  \\\n",
       "0          2    Butaritari      KI     80.51          light rain   3.0707   \n",
       "1          8         Kapaa      US     74.12    scattered clouds  22.0752   \n",
       "2         15        Atuona      PF     78.58          light rain  -9.8000   \n",
       "3         16    Sao Mateus      BR     84.42           clear sky -18.7161   \n",
       "4         17   Baikunthpur      IN     89.08    scattered clouds  23.2500   \n",
       "..       ...           ...     ...       ...                 ...      ...   \n",
       "229      649        Ranong      TH     80.11     overcast clouds   9.9658   \n",
       "230      650     Lalawigan      PH     79.21    scattered clouds  11.5892   \n",
       "231      655       Cozumel      MX     86.95       broken clouds  20.5083   \n",
       "232      658      Celestun      MX     86.56           clear sky  20.8667   \n",
       "233      664  Aguas Verdes      PE     86.27    scattered clouds  -3.4814   \n",
       "\n",
       "          Lng                            Hotel Name  \n",
       "0    172.7902                    Isles Sunset Lodge  \n",
       "1   -159.3190   Sheraton Kauai Coconut Beach Resort  \n",
       "2   -139.0333                           Villa Enata  \n",
       "3    -39.8589                       Hotel Rio Norte  \n",
       "4     82.5500                 Hotel Shree Annapurna  \n",
       "..        ...                                   ...  \n",
       "229   98.6348                  Tinidee Hotel@Ranong  \n",
       "230  125.4697                       Palms Apartment  \n",
       "231  -86.9458  Cozumel Palace® All Inclusive Resort  \n",
       "232  -90.4000                          Posada Lilia  \n",
       "233  -80.2450                     Sol Del Sur Hotel  \n",
       "\n",
       "[234 rows x 8 columns]"
      ]
     },
     "execution_count": 29,
     "metadata": {},
     "output_type": "execute_result"
    }
   ],
   "source": [
    "vacation_df = pd.read_csv(\"weatherpy_vacation.csv\")\n",
    "vacation_df"
   ]
  },
  {
   "cell_type": "markdown",
   "id": "a491b092",
   "metadata": {},
   "source": [
    "Using the template add the city name, the country code, the weather description and maximum temperature for the city."
   ]
  },
  {
   "cell_type": "code",
   "execution_count": 79,
   "id": "6fd22177",
   "metadata": {},
   "outputs": [],
   "source": [
    "info_box_template = \"\"\"\n",
    "<dl>\n",
    "<dt>Hotel Name</dt><dd>{Hotel Name}</dd>\n",
    "<dt>City</dt><dd>{City}</dd>\n",
    "<dt>Country</dt><dd>{Country}</dd>\n",
    "<dt>Max Temp</dt><dd>{Max Temp} °F</dd>\n",
    "</dl>\n",
    "\"\"\""
   ]
  },
  {
   "cell_type": "markdown",
   "id": "b120e18c",
   "metadata": {},
   "source": [
    "Get the data from each row and add it to the formatting template and store the data in a list."
   ]
  },
  {
   "cell_type": "code",
   "execution_count": 80,
   "id": "a390b90c",
   "metadata": {},
   "outputs": [],
   "source": [
    "hotel_info = [info_box_template.format(**row) for index, row in vacation_df.iterrows()]"
   ]
  },
  {
   "cell_type": "markdown",
   "id": "a889a893",
   "metadata": {},
   "source": [
    "Get the latitude and longitude from each row and store in a new DataFrame."
   ]
  },
  {
   "cell_type": "code",
   "execution_count": 81,
   "id": "b16241df",
   "metadata": {},
   "outputs": [],
   "source": [
    "locations = vacation_df[[\"Lat\", \"Lng\"]]"
   ]
  },
  {
   "cell_type": "code",
   "execution_count": 82,
   "id": "52bdd278",
   "metadata": {},
   "outputs": [
    {
     "data": {
      "text/html": [
       "<div>\n",
       "<style scoped>\n",
       "    .dataframe tbody tr th:only-of-type {\n",
       "        vertical-align: middle;\n",
       "    }\n",
       "\n",
       "    .dataframe tbody tr th {\n",
       "        vertical-align: top;\n",
       "    }\n",
       "\n",
       "    .dataframe thead th {\n",
       "        text-align: right;\n",
       "    }\n",
       "</style>\n",
       "<table border=\"1\" class=\"dataframe\">\n",
       "  <thead>\n",
       "    <tr style=\"text-align: right;\">\n",
       "      <th></th>\n",
       "      <th>Lat</th>\n",
       "      <th>Lng</th>\n",
       "    </tr>\n",
       "  </thead>\n",
       "  <tbody>\n",
       "    <tr>\n",
       "      <th>0</th>\n",
       "      <td>3.0707</td>\n",
       "      <td>172.7902</td>\n",
       "    </tr>\n",
       "    <tr>\n",
       "      <th>1</th>\n",
       "      <td>22.0752</td>\n",
       "      <td>-159.3190</td>\n",
       "    </tr>\n",
       "    <tr>\n",
       "      <th>2</th>\n",
       "      <td>-9.8000</td>\n",
       "      <td>-139.0333</td>\n",
       "    </tr>\n",
       "    <tr>\n",
       "      <th>3</th>\n",
       "      <td>-18.7161</td>\n",
       "      <td>-39.8589</td>\n",
       "    </tr>\n",
       "    <tr>\n",
       "      <th>4</th>\n",
       "      <td>23.2500</td>\n",
       "      <td>82.5500</td>\n",
       "    </tr>\n",
       "    <tr>\n",
       "      <th>...</th>\n",
       "      <td>...</td>\n",
       "      <td>...</td>\n",
       "    </tr>\n",
       "    <tr>\n",
       "      <th>229</th>\n",
       "      <td>9.9658</td>\n",
       "      <td>98.6348</td>\n",
       "    </tr>\n",
       "    <tr>\n",
       "      <th>230</th>\n",
       "      <td>11.5892</td>\n",
       "      <td>125.4697</td>\n",
       "    </tr>\n",
       "    <tr>\n",
       "      <th>231</th>\n",
       "      <td>20.5083</td>\n",
       "      <td>-86.9458</td>\n",
       "    </tr>\n",
       "    <tr>\n",
       "      <th>232</th>\n",
       "      <td>20.8667</td>\n",
       "      <td>-90.4000</td>\n",
       "    </tr>\n",
       "    <tr>\n",
       "      <th>233</th>\n",
       "      <td>-3.4814</td>\n",
       "      <td>-80.2450</td>\n",
       "    </tr>\n",
       "  </tbody>\n",
       "</table>\n",
       "<p>234 rows × 2 columns</p>\n",
       "</div>"
      ],
      "text/plain": [
       "         Lat       Lng\n",
       "0     3.0707  172.7902\n",
       "1    22.0752 -159.3190\n",
       "2    -9.8000 -139.0333\n",
       "3   -18.7161  -39.8589\n",
       "4    23.2500   82.5500\n",
       "..       ...       ...\n",
       "229   9.9658   98.6348\n",
       "230  11.5892  125.4697\n",
       "231  20.5083  -86.9458\n",
       "232  20.8667  -90.4000\n",
       "233  -3.4814  -80.2450\n",
       "\n",
       "[234 rows x 2 columns]"
      ]
     },
     "execution_count": 82,
     "metadata": {},
     "output_type": "execute_result"
    }
   ],
   "source": [
    "locations"
   ]
  },
  {
   "cell_type": "markdown",
   "id": "6452ced5",
   "metadata": {},
   "source": [
    "Add a marker layer for each city to the map.\n",
    "\n",
    "Display the figure."
   ]
  },
  {
   "cell_type": "code",
   "execution_count": 83,
   "id": "0d4e5212",
   "metadata": {},
   "outputs": [
    {
     "data": {
      "application/vnd.jupyter.widget-view+json": {
       "model_id": "eab7e20d46944be1b1a820c66f0c3d58",
       "version_major": 2,
       "version_minor": 0
      },
      "text/plain": [
       "Figure(layout=FigureLayout(height='420px'))"
      ]
     },
     "metadata": {},
     "output_type": "display_data"
    }
   ],
   "source": [
    "locations = vacation_df[[\"Lat\", \"Lng\"]]\n",
    "max_temp = vacation_df[\"Max Temp\"]\n",
    "fig = gmaps.figure(center=(30.0, 31.0), zoom_level=1.5)\n",
    "heat_layer = gmaps.heatmap_layer(locations, weights=max_temp,\n",
    "             dissipating=False, max_intensity=300, point_radius=4)\n",
    "marker_layer = gmaps.marker_layer(locations, info_box_content=hotel_info)\n",
    "fig.add_layer(heat_layer)\n",
    "fig.add_layer(marker_layer)\n",
    "\n",
    "fig"
   ]
  },
  {
   "cell_type": "markdown",
   "id": "e86f9d56",
   "metadata": {},
   "source": [
    "From the map above pick 4 cities and create a vacation itinerary route to travel between the four cities. "
   ]
  },
  {
   "cell_type": "markdown",
   "id": "73fcf734",
   "metadata": {},
   "source": [
    "Create DataFrames for each city by filtering the 'vacation_df' using the loc method. \n",
    "\n",
    "Hint: The starting and ending city should be the same city."
   ]
  },
  {
   "cell_type": "code",
   "execution_count": 30,
   "id": "bd603ac8",
   "metadata": {},
   "outputs": [],
   "source": [
    "vacation_start = vacation_df.loc[vacation_df[\"City\"] == \"Sao Mateus\"]\n",
    "vacation_end = vacation_df.loc[vacation_df[\"City\"] == \"Sao Mateus\"]\n",
    "vacation_stop1 = vacation_df.loc[vacation_df[\"City\"] == \"Vila Velha\"]\n",
    "vacation_stop2 = vacation_df.loc[vacation_df[\"City\"] == \"Sao Joao Da Barra\"] \n",
    "vacation_stop3 = vacation_df.loc[vacation_df[\"City\"] == \"Arraial Do Cabo\"] "
   ]
  },
  {
   "cell_type": "markdown",
   "id": "22a4893e",
   "metadata": {},
   "source": [
    "Get the latitude-longitude pairs as tuples from each city DataFrame using the to_numpy function and list indexing."
   ]
  },
  {
   "cell_type": "code",
   "execution_count": 31,
   "id": "7161d038",
   "metadata": {},
   "outputs": [],
   "source": [
    "import numpy"
   ]
  },
  {
   "cell_type": "code",
   "execution_count": 59,
   "id": "5341c545",
   "metadata": {},
   "outputs": [],
   "source": [
    "start = vacation_start[[\"Lat\", \"Lng\"]].to_numpy()\n",
    "end = vacation_end[[\"Lat\", \"Lng\"]].to_numpy()\n",
    "stop1 = vacation_stop1[[\"Lat\", \"Lng\"]].to_numpy()\n",
    "stop2 = vacation_stop2[[\"Lat\", \"Lng\"]].to_numpy()\n",
    "stop3 = vacation_stop3[[\"Lat\", \"Lng\"]].to_numpy()"
   ]
  },
  {
   "cell_type": "code",
   "execution_count": 45,
   "id": "28e94e61",
   "metadata": {},
   "outputs": [
    {
     "data": {
      "text/plain": [
       "array([[-18.7161, -39.8589]])"
      ]
     },
     "execution_count": 45,
     "metadata": {},
     "output_type": "execute_result"
    }
   ],
   "source": [
    "start"
   ]
  },
  {
   "cell_type": "code",
   "execution_count": 46,
   "id": "641dc7c9",
   "metadata": {},
   "outputs": [
    {
     "data": {
      "text/plain": [
       "array([[-20.3297, -40.2925]])"
      ]
     },
     "execution_count": 46,
     "metadata": {},
     "output_type": "execute_result"
    }
   ],
   "source": [
    "stop1"
   ]
  },
  {
   "cell_type": "code",
   "execution_count": 47,
   "id": "c2c77586",
   "metadata": {},
   "outputs": [
    {
     "data": {
      "text/plain": [
       "array([[-21.6403, -41.0511]])"
      ]
     },
     "execution_count": 47,
     "metadata": {},
     "output_type": "execute_result"
    }
   ],
   "source": [
    "stop2"
   ]
  },
  {
   "cell_type": "code",
   "execution_count": 48,
   "id": "d0a7755c",
   "metadata": {},
   "outputs": [
    {
     "data": {
      "text/plain": [
       "array([[-22.9661, -42.0278]])"
      ]
     },
     "execution_count": 48,
     "metadata": {},
     "output_type": "execute_result"
    }
   ],
   "source": [
    "stop3"
   ]
  },
  {
   "cell_type": "code",
   "execution_count": 49,
   "id": "43993905",
   "metadata": {},
   "outputs": [
    {
     "data": {
      "text/plain": [
       "array([[-18.7161, -39.8589]])"
      ]
     },
     "execution_count": 49,
     "metadata": {},
     "output_type": "execute_result"
    }
   ],
   "source": [
    "end"
   ]
  },
  {
   "cell_type": "markdown",
   "id": "3854c170",
   "metadata": {},
   "source": [
    "Create a direction layer map using the start and end latitude-longitude pairs, and stop1, stop2, and stop3 as the waypoints. The travel_mode should be \"DRIVING\", \"BICYCLING\", or \"WALKING\"."
   ]
  },
  {
   "cell_type": "code",
   "execution_count": 66,
   "id": "a5530405",
   "metadata": {},
   "outputs": [
    {
     "data": {
      "application/vnd.jupyter.widget-view+json": {
       "model_id": "c765a49002ee4ebcbb1e2972a6ebb001",
       "version_major": 2,
       "version_minor": 0
      },
      "text/plain": [
       "Figure(layout=FigureLayout(height='420px'))"
      ]
     },
     "metadata": {},
     "output_type": "display_data"
    }
   ],
   "source": [
    "fig = gmaps.figure(center=(30.0, 31.0), zoom_level=1.5)\n",
    "start = (-18.7161, -39.8589)\n",
    "end = (-18.7161, -39.8589)\n",
    "waypoints = [(-20.3297, -40.2925), (-21.6403, -41.0511), (-22.9661, -42.0278) ]\n",
    "directions = gmaps.directions_layer(start, end, waypoints=waypoints, travel_mode='DRIVING')\n",
    "\n",
    "fig.add_layer(directions)\n",
    "\n",
    "fig"
   ]
  },
  {
   "cell_type": "markdown",
   "id": "07001a65",
   "metadata": {},
   "source": [
    "Create a marker layer map between the four cities.\n",
    "\n",
    "Combine the four city DataFrames into one DataFrame using the concat() function."
   ]
  },
  {
   "cell_type": "code",
   "execution_count": 68,
   "id": "85fc2fc3",
   "metadata": {},
   "outputs": [
    {
     "data": {
      "text/html": [
       "<div>\n",
       "<style scoped>\n",
       "    .dataframe tbody tr th:only-of-type {\n",
       "        vertical-align: middle;\n",
       "    }\n",
       "\n",
       "    .dataframe tbody tr th {\n",
       "        vertical-align: top;\n",
       "    }\n",
       "\n",
       "    .dataframe thead th {\n",
       "        text-align: right;\n",
       "    }\n",
       "</style>\n",
       "<table border=\"1\" class=\"dataframe\">\n",
       "  <thead>\n",
       "    <tr style=\"text-align: right;\">\n",
       "      <th></th>\n",
       "      <th>City_ID</th>\n",
       "      <th>City</th>\n",
       "      <th>Country</th>\n",
       "      <th>Max Temp</th>\n",
       "      <th>Current Description</th>\n",
       "      <th>Lat</th>\n",
       "      <th>Lng</th>\n",
       "      <th>Hotel Name</th>\n",
       "    </tr>\n",
       "  </thead>\n",
       "  <tbody>\n",
       "    <tr>\n",
       "      <th>0</th>\n",
       "      <td>16</td>\n",
       "      <td>Sao Mateus</td>\n",
       "      <td>BR</td>\n",
       "      <td>84.42</td>\n",
       "      <td>clear sky</td>\n",
       "      <td>-18.7161</td>\n",
       "      <td>-39.8589</td>\n",
       "      <td>Hotel Rio Norte</td>\n",
       "    </tr>\n",
       "    <tr>\n",
       "      <th>1</th>\n",
       "      <td>21</td>\n",
       "      <td>Vila Velha</td>\n",
       "      <td>BR</td>\n",
       "      <td>87.75</td>\n",
       "      <td>few clouds</td>\n",
       "      <td>-20.3297</td>\n",
       "      <td>-40.2925</td>\n",
       "      <td>Hotel Vitória Palace</td>\n",
       "    </tr>\n",
       "    <tr>\n",
       "      <th>2</th>\n",
       "      <td>522</td>\n",
       "      <td>Sao Joao Da Barra</td>\n",
       "      <td>BR</td>\n",
       "      <td>87.89</td>\n",
       "      <td>few clouds</td>\n",
       "      <td>-21.6403</td>\n",
       "      <td>-41.0511</td>\n",
       "      <td>Pousada Porto De Canoas</td>\n",
       "    </tr>\n",
       "    <tr>\n",
       "      <th>3</th>\n",
       "      <td>311</td>\n",
       "      <td>Arraial Do Cabo</td>\n",
       "      <td>BR</td>\n",
       "      <td>76.96</td>\n",
       "      <td>broken clouds</td>\n",
       "      <td>-22.9661</td>\n",
       "      <td>-42.0278</td>\n",
       "      <td>Pousada Porto Praia</td>\n",
       "    </tr>\n",
       "    <tr>\n",
       "      <th>4</th>\n",
       "      <td>16</td>\n",
       "      <td>Sao Mateus</td>\n",
       "      <td>BR</td>\n",
       "      <td>84.42</td>\n",
       "      <td>clear sky</td>\n",
       "      <td>-18.7161</td>\n",
       "      <td>-39.8589</td>\n",
       "      <td>Hotel Rio Norte</td>\n",
       "    </tr>\n",
       "  </tbody>\n",
       "</table>\n",
       "</div>"
      ],
      "text/plain": [
       "   City_ID               City Country  Max Temp Current Description      Lat  \\\n",
       "0       16         Sao Mateus      BR     84.42           clear sky -18.7161   \n",
       "1       21         Vila Velha      BR     87.75          few clouds -20.3297   \n",
       "2      522  Sao Joao Da Barra      BR     87.89          few clouds -21.6403   \n",
       "3      311    Arraial Do Cabo      BR     76.96       broken clouds -22.9661   \n",
       "4       16         Sao Mateus      BR     84.42           clear sky -18.7161   \n",
       "\n",
       "       Lng               Hotel Name  \n",
       "0 -39.8589          Hotel Rio Norte  \n",
       "1 -40.2925     Hotel Vitória Palace  \n",
       "2 -41.0511  Pousada Porto De Canoas  \n",
       "3 -42.0278      Pousada Porto Praia  \n",
       "4 -39.8589          Hotel Rio Norte  "
      ]
     },
     "execution_count": 68,
     "metadata": {},
     "output_type": "execute_result"
    }
   ],
   "source": [
    "itinerary_df = pd.concat([vacation_start, vacation_stop1, vacation_stop2, vacation_stop3, vacation_end],ignore_index=True)\n",
    "itinerary_df"
   ]
  },
  {
   "cell_type": "markdown",
   "id": "b98925bb",
   "metadata": {},
   "source": [
    "Using the template add city name, the country code, the weather description and maximum temperature for the city. "
   ]
  },
  {
   "cell_type": "code",
   "execution_count": 69,
   "id": "95b4d7f2",
   "metadata": {},
   "outputs": [],
   "source": [
    "info_box_template = \"\"\"\n",
    "<dl>\n",
    "<dt>Hotel Name</dt><dd>{Hotel Name}</dd>\n",
    "<dt>City</dt><dd>{City}</dd>\n",
    "<dt>Country</dt><dd>{Country}</dd>\n",
    "<dt>Max Temp</dt><dd>{Max Temp} °F</dd>\n",
    "</dl>\n",
    "\"\"\""
   ]
  },
  {
   "cell_type": "markdown",
   "id": "dce41e94",
   "metadata": {},
   "source": [
    "Get the data from each row and add it to the formatting template and store the data in a list."
   ]
  },
  {
   "cell_type": "code",
   "execution_count": 70,
   "id": "074e12b1",
   "metadata": {},
   "outputs": [],
   "source": [
    "hotel_info = [info_box_template.format(**row) for index, row in itinerary_df.iterrows()]"
   ]
  },
  {
   "cell_type": "markdown",
   "id": "91c7b06a",
   "metadata": {},
   "source": [
    "Get the latitude and longitude from each row and store in a new DataFrame."
   ]
  },
  {
   "cell_type": "code",
   "execution_count": 71,
   "id": "73851e4f",
   "metadata": {},
   "outputs": [],
   "source": [
    "locations = itinerary_df[[\"Lat\", \"Lng\"]]"
   ]
  },
  {
   "cell_type": "markdown",
   "id": "8254d108",
   "metadata": {},
   "source": [
    "Add a marker layer for each city to the map.\n",
    "\n",
    "Display the figure"
   ]
  },
  {
   "cell_type": "code",
   "execution_count": 74,
   "id": "938b93aa",
   "metadata": {},
   "outputs": [
    {
     "data": {
      "application/vnd.jupyter.widget-view+json": {
       "model_id": "2b0d6b875e2a4a40ad120b4a3ae5c341",
       "version_major": 2,
       "version_minor": 0
      },
      "text/plain": [
       "Figure(layout=FigureLayout(height='420px'))"
      ]
     },
     "metadata": {},
     "output_type": "display_data"
    }
   ],
   "source": [
    "locations = itinerary_df[[\"Lat\", \"Lng\"]]\n",
    "max_temp = itinerary_df[\"Max Temp\"]\n",
    "fig = gmaps.figure(center=(30.0, 31.0), zoom_level=1.5)\n",
    "heat_layer = gmaps.heatmap_layer(locations, weights=max_temp,\n",
    "             dissipating=False, max_intensity=300, point_radius=4)\n",
    "marker_layer = gmaps.marker_layer(locations, info_box_content=hotel_info)\n",
    "fig.add_layer(heat_layer)\n",
    "fig.add_layer(marker_layer)\n",
    "\n",
    "\n",
    "fig"
   ]
  }
 ],
 "metadata": {
  "kernelspec": {
   "display_name": "PythonData",
   "language": "python",
   "name": "pythondata"
  },
  "language_info": {
   "codemirror_mode": {
    "name": "ipython",
    "version": 3
   },
   "file_extension": ".py",
   "mimetype": "text/x-python",
   "name": "python",
   "nbconvert_exporter": "python",
   "pygments_lexer": "ipython3",
   "version": "3.8.12"
  }
 },
 "nbformat": 4,
 "nbformat_minor": 5
}
